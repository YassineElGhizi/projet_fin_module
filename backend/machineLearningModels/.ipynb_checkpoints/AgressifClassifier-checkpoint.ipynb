{
 "cells": [
  {
   "cell_type": "markdown",
   "metadata": {},
   "source": [
    "Les algorithmes passifs-agressifs sont généralement utilisés pour l'apprentissage à grande échelle. C'est l'un des rares « algorithmes d'apprentissage en ligne ». Dans les algorithmes d'apprentissage automatique en ligne, les données d'entrée sont présentées dans un ordre séquentiel et le modèle d'apprentissage automatique est mis à jour étape par étape, contrairement à l'apprentissage par lots, où l'ensemble des données d'entraînement est utilisé à la fois. Ceci est très utile dans les situations où il y a une énorme quantité de données."
   ]
  },
  {
   "cell_type": "markdown",
   "metadata": {},
   "source": [
    "## Let's start the work"
   ]
  },
  {
   "cell_type": "code",
   "execution_count": 2,
   "metadata": {},
   "outputs": [],
   "source": [
    "import pandas as pd"
   ]
  },
  {
   "cell_type": "code",
   "execution_count": 4,
   "metadata": {},
   "outputs": [
    {
     "data": {
      "text/html": [
       "<div>\n",
       "<style scoped>\n",
       "    .dataframe tbody tr th:only-of-type {\n",
       "        vertical-align: middle;\n",
       "    }\n",
       "\n",
       "    .dataframe tbody tr th {\n",
       "        vertical-align: top;\n",
       "    }\n",
       "\n",
       "    .dataframe thead th {\n",
       "        text-align: right;\n",
       "    }\n",
       "</style>\n",
       "<table border=\"1\" class=\"dataframe\">\n",
       "  <thead>\n",
       "    <tr style=\"text-align: right;\">\n",
       "      <th></th>\n",
       "      <th>text</th>\n",
       "      <th>label</th>\n",
       "    </tr>\n",
       "  </thead>\n",
       "  <tbody>\n",
       "    <tr>\n",
       "      <th>0</th>\n",
       "      <td>أشارت صحيفة واشنطن بوست إلى أن إدارة الرئيس ال...</td>\n",
       "      <td>REAL</td>\n",
       "    </tr>\n",
       "    <tr>\n",
       "      <th>1</th>\n",
       "      <td>يعتقد عدد كبير من الأمريكيين أن فيروس كورونا ت...</td>\n",
       "      <td>REAL</td>\n",
       "    </tr>\n",
       "    <tr>\n",
       "      <th>2</th>\n",
       "      <td>أعلنت وزارة الصحة الإيطالية تسجيل 77 وفاة جديد...</td>\n",
       "      <td>REAL</td>\n",
       "    </tr>\n",
       "    <tr>\n",
       "      <th>3</th>\n",
       "      <td>اعتبر رئيس الوزراء البريطاني بوريس جونسون أنه ...</td>\n",
       "      <td>REAL</td>\n",
       "    </tr>\n",
       "    <tr>\n",
       "      <th>4</th>\n",
       "      <td>أعلن المتحدث باسم الحكومة الفرنسية غابرييل أتا...</td>\n",
       "      <td>REAL</td>\n",
       "    </tr>\n",
       "  </tbody>\n",
       "</table>\n",
       "</div>"
      ],
      "text/plain": [
       "                                                text label\n",
       "0  أشارت صحيفة واشنطن بوست إلى أن إدارة الرئيس ال...  REAL\n",
       "1  يعتقد عدد كبير من الأمريكيين أن فيروس كورونا ت...  REAL\n",
       "2  أعلنت وزارة الصحة الإيطالية تسجيل 77 وفاة جديد...  REAL\n",
       "3  اعتبر رئيس الوزراء البريطاني بوريس جونسون أنه ...  REAL\n",
       "4  أعلن المتحدث باسم الحكومة الفرنسية غابرييل أتا...  REAL"
      ]
     },
     "execution_count": 4,
     "metadata": {},
     "output_type": "execute_result"
    }
   ],
   "source": [
    "#dataframe = pd.read_csv('MyNews.csv')\n",
    "dataframe = pd.read_csv(r'C:\\Users\\elGhizi\\Desktop\\fakeNews\\ProjetFinModule\\scrapping\\FakeNews.txt', delimiter = \";\")\n",
    "dataframe.head()"
   ]
  },
  {
   "cell_type": "code",
   "execution_count": 5,
   "metadata": {},
   "outputs": [],
   "source": [
    "x = dataframe['text']\n",
    "y = dataframe['label']"
   ]
  },
  {
   "cell_type": "code",
   "execution_count": 6,
   "metadata": {},
   "outputs": [
    {
     "data": {
      "text/plain": [
       "0       أشارت صحيفة واشنطن بوست إلى أن إدارة الرئيس ال...\n",
       "1       يعتقد عدد كبير من الأمريكيين أن فيروس كورونا ت...\n",
       "2       أعلنت وزارة الصحة الإيطالية تسجيل 77 وفاة جديد...\n",
       "3       اعتبر رئيس الوزراء البريطاني بوريس جونسون أنه ...\n",
       "4       أعلن المتحدث باسم الحكومة الفرنسية غابرييل أتا...\n",
       "                              ...                        \n",
       "1251    فريق تقصي الحقائق في بي بي سي يفند عدداً من ال...\n",
       "1252    مع استمرار تفشي فيروس كورونا في مختلف انحاء ال...\n",
       "1253    موقع تويتر يعلن عن إجراءات جديدة تهدف إلى الحد...\n",
       "1254    كثير من المثقفين، بدءا من الطلاب ووصولا إلى ال...\n",
       "1255    تنتشر عبر مواقع التواصل الاجتماعي أخبار كاذبة ...\n",
       "Name: text, Length: 1256, dtype: object"
      ]
     },
     "execution_count": 6,
     "metadata": {},
     "output_type": "execute_result"
    }
   ],
   "source": [
    "x"
   ]
  },
  {
   "cell_type": "code",
   "execution_count": 7,
   "metadata": {},
   "outputs": [
    {
     "data": {
      "text/plain": [
       "0       REAL\n",
       "1       REAL\n",
       "2       REAL\n",
       "3       REAL\n",
       "4       REAL\n",
       "        ... \n",
       "1251    FAKE\n",
       "1252    FAKE\n",
       "1253    FAKE\n",
       "1254    FAKE\n",
       "1255    FAKE\n",
       "Name: label, Length: 1256, dtype: object"
      ]
     },
     "execution_count": 7,
     "metadata": {},
     "output_type": "execute_result"
    }
   ],
   "source": [
    "y"
   ]
  },
  {
   "cell_type": "code",
   "execution_count": 8,
   "metadata": {},
   "outputs": [],
   "source": [
    "from sklearn.model_selection import train_test_split\n",
    "from sklearn.feature_extraction.text import TfidfVectorizer\n",
    "from sklearn.linear_model import PassiveAggressiveClassifier\n",
    "from sklearn.metrics import accuracy_score, confusion_matrix"
   ]
  },
  {
   "cell_type": "code",
   "execution_count": 9,
   "metadata": {},
   "outputs": [
    {
     "name": "stdout",
     "output_type": "stream",
     "text": [
      "========x train============\n",
      "1004\n",
      "=========x test===========\n",
      "252\n",
      "========y train============\n",
      "1004\n",
      "========y test============\n",
      "252\n"
     ]
    }
   ],
   "source": [
    "x_train,x_test,y_train,y_test = train_test_split(x,y,test_size=0.2,random_state=0)\n",
    "print(\"========x train============\")\n",
    "print(len(x_train))\n",
    "print(\"=========x test===========\")\n",
    "print(len(x_test))\n",
    "print(\"========y train============\")\n",
    "print(len(y_train))\n",
    "print(\"========y test============\")\n",
    "print(len(y_test))"
   ]
  },
  {
   "cell_type": "code",
   "execution_count": 10,
   "metadata": {},
   "outputs": [
    {
     "data": {
      "text/plain": [
       "159     REAL\n",
       "435     REAL\n",
       "554     REAL\n",
       "984     REAL\n",
       "970     REAL\n",
       "        ... \n",
       "763     REAL\n",
       "835     REAL\n",
       "1216    FAKE\n",
       "559     REAL\n",
       "684     REAL\n",
       "Name: label, Length: 1004, dtype: object"
      ]
     },
     "execution_count": 10,
     "metadata": {},
     "output_type": "execute_result"
    }
   ],
   "source": [
    "y_train"
   ]
  },
  {
   "cell_type": "code",
   "execution_count": 11,
   "metadata": {},
   "outputs": [],
   "source": [
    "tfvect = TfidfVectorizer(stop_words='arabic',max_df=0.7)\n",
    "tfvect = TfidfVectorizer(max_df=0.8)\n",
    "tfid_x_train = tfvect.fit_transform(x_train.values.astype('U'))\n",
    "tfid_x_test = tfvect.transform(x_test.values.astype('U'))"
   ]
  },
  {
   "cell_type": "markdown",
   "metadata": {},
   "source": [
    "* max_df = 0.50 means \"ignore terms that appear in more than 50% of the documents\".\n",
    "* max_df = 25 means \"ignore terms that appear in more than 25 documents\"."
   ]
  },
  {
   "cell_type": "code",
   "execution_count": 12,
   "metadata": {},
   "outputs": [
    {
     "data": {
      "text/plain": [
       "PassiveAggressiveClassifier(max_iter=50)"
      ]
     },
     "execution_count": 12,
     "metadata": {},
     "output_type": "execute_result"
    }
   ],
   "source": [
    "classifier = PassiveAggressiveClassifier(max_iter=50)\n",
    "classifier.fit(tfid_x_train,y_train)"
   ]
  },
  {
   "cell_type": "code",
   "execution_count": 13,
   "metadata": {},
   "outputs": [
    {
     "name": "stdout",
     "output_type": "stream",
     "text": [
      "<class 'scipy.sparse.csr.csr_matrix'>\n",
      "Accuracy: 95.24%\n"
     ]
    }
   ],
   "source": [
    "y_pred = classifier.predict(tfid_x_test)\n",
    "print(type(tfid_x_test))\n",
    "score = accuracy_score(y_test,y_pred)\n",
    "print(f'Accuracy: {round(score*100,2)}%')"
   ]
  },
  {
   "cell_type": "code",
   "execution_count": 14,
   "metadata": {},
   "outputs": [
    {
     "name": "stdout",
     "output_type": "stream",
     "text": [
      "[[ 27   5]\n",
      " [  0 190]]\n"
     ]
    }
   ],
   "source": [
    "cf = confusion_matrix(y_test,y_pred, labels=['FAKE','REAL'])\n",
    "print(cf)"
   ]
  },
  {
   "cell_type": "code",
   "execution_count": 15,
   "metadata": {},
   "outputs": [],
   "source": [
    "def fake_news_det(news):\n",
    "    input_data = [news]\n",
    "    vectorized_input_data = tfvect.transform(input_data)\n",
    "    print(type(vectorized_input_data))\n",
    "    prediction = classifier.predict(vectorized_input_data)\n",
    "    print(prediction)"
   ]
  },
  {
   "cell_type": "code",
   "execution_count": 16,
   "metadata": {},
   "outputs": [
    {
     "name": "stdout",
     "output_type": "stream",
     "text": [
      "<class 'scipy.sparse.csr.csr_matrix'>\n",
      "['Fake']\n"
     ]
    }
   ],
   "source": [
    "fake_news_det('لقاح فايزر يغيّر الحمض النووي البشري و يسبب مشاكل عصبية مثل الزهايمر')"
   ]
  },
  {
   "cell_type": "code",
   "execution_count": 17,
   "metadata": {},
   "outputs": [
    {
     "name": "stdout",
     "output_type": "stream",
     "text": [
      "<class 'scipy.sparse.csr.csr_matrix'>\n",
      "['REAL']\n"
     ]
    }
   ],
   "source": [
    "fake_news_det('بايدن يثير تساؤلات عن رغبة الصين في العثور على أصل كورونا')"
   ]
  },
  {
   "cell_type": "code",
   "execution_count": null,
   "metadata": {},
   "outputs": [],
   "source": []
  }
 ],
 "metadata": {
  "kernelspec": {
   "display_name": "Python 3",
   "language": "python",
   "name": "python3"
  },
  "language_info": {
   "codemirror_mode": {
    "name": "ipython",
    "version": 3
   },
   "file_extension": ".py",
   "mimetype": "text/x-python",
   "name": "python",
   "nbconvert_exporter": "python",
   "pygments_lexer": "ipython3",
   "version": "3.9.4"
  }
 },
 "nbformat": 4,
 "nbformat_minor": 4
}
